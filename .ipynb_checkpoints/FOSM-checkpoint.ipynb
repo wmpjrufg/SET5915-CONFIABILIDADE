{
 "cells": [
  {
   "cell_type": "code",
   "execution_count": 1,
   "metadata": {},
   "outputs": [],
   "source": [
    "import numpy as np\n",
    "import matplotlib.pyplot as plt\n",
    "import pandas as pd"
   ]
  },
  {
   "cell_type": "markdown",
   "metadata": {},
   "source": [
    "Algoritmo de confiabilidade FOSM (First Order Second Moment)"
   ]
  },
  {
   "cell_type": "code",
   "execution_count": 2,
   "metadata": {},
   "outputs": [],
   "source": [
    "def g_x(xVar):\n",
    "    valor_g_x =  xVar[0, 0] * xVar[0, 1] - xVar[0, 2]\n",
    "    return valor_g_x\n",
    "\n",
    "def g_y(yVar):\n",
    "    valor_g_y =  12.5 * yVar[0, 0] * yVar[0, 1] + 100 * yVar[0, 1] + 250 * yVar[0, 1] - 200 * yVar[0, 2] + 1000 \n",
    "    return valor_g_y\n",
    "\n",
    "def HRLF(diff_g_y, norma_g_y, valor_g_y, yVar):\n",
    "    alfa = diff_g_y/norma_g_y\n",
    "    beta = np.linalg.norm(yVar)\n",
    "    yVarNew = -alfa *(beta + valor_g_y/norma_g_y)\n",
    "    return yVarNew, alfa, beta\n",
    "\n",
    "    \n",
    "def jacobiano_g_x(xVar):\n",
    "    g1_x = xVar[0, 1]\n",
    "    g2_x = xVar[0, 0]\n",
    "    g3_x = -1\n",
    "    diff_g_x = np.array([[g1_x, g2_x, g3_x]]) \n",
    "    return diff_g_x\n",
    "\n",
    "def jacobiano_g_y(yVar):\n",
    "    g1_y = 12.5 * yVar[0, 1] + 250\n",
    "    g2_y = 12.5 * yVar[0, 0] + 100\n",
    "    g3_y = -200\n",
    "    diff_g_y = np.array([[g1_y, g2_y, g3_y]]) \n",
    "    return diff_g_y\n",
    "\n",
    "def criando_y_var(xVar, global_x, global_num_var, global_jacobiana):\n",
    "    media_xVar = np.zeros((1,3))\n",
    "    for local_i_count in range(global_num_var):\n",
    "        media_xVar[0, local_i_count] = global_x[local_i_count, 0]\n",
    "    termo_1 = xVar - media_xVar\n",
    "    termo_2 = np.linalg.inv(global_jacobiana)\n",
    "    y_var = np.dot(termo_1,termo_2)\n",
    "    return y_var\n",
    "\n",
    "def criando_x_var(yVar, global_jacobiana, global_num_var, global_x):\n",
    "    media_xVar = np.zeros((1,3))\n",
    "    for local_i_count in range(global_num_var):\n",
    "        media_xVar[0, local_i_count] = global_x[local_i_count, 0]\n",
    "    xVar = np.dot(global_jacobiana, y_var.T) + media_xVar.T\n",
    "    return xVar\n",
    "\n",
    "global_num_var = 3\n",
    "global_x = np.array([[40, 5,  0], [50, 2.5,  0], [1000, 200,  0]])"
   ]
  },
  {
   "cell_type": "code",
   "execution_count": 3,
   "metadata": {},
   "outputs": [],
   "source": [
    "global_jacobiana=np.eye(global_num_var, dtype=float)"
   ]
  },
  {
   "cell_type": "code",
   "execution_count": 4,
   "metadata": {},
   "outputs": [
    {
     "data": {
      "text/plain": [
       "array([[  5. ,   0. ,   0. ],\n",
       "       [  0. ,   2.5,   0. ],\n",
       "       [  0. ,   0. , 200. ]])"
      ]
     },
     "execution_count": 4,
     "metadata": {},
     "output_type": "execute_result"
    }
   ],
   "source": [
    "for global_i_count in range(global_num_var):\n",
    "    global_jacobiana[global_i_count, global_i_count] = global_jacobiana[global_i_count, global_i_count]*global_x[global_i_count, 1]\n",
    "global_jacobiana"
   ]
  },
  {
   "cell_type": "markdown",
   "metadata": {},
   "source": [
    "Início do algoritmo FOSM"
   ]
  },
  {
   "cell_type": "code",
   "execution_count": 6,
   "metadata": {},
   "outputs": [],
   "source": [
    "iteracao = 5\n",
    "xVar = np.array([[40, 50 ,1000]])\n",
    "yVar = criando_y_var(xVar, global_x, global_num_var, global_jacobiana)\n",
    "beta = np.linalg.norm(yVar)\n",
    "resultados = np.zeros((iteracao,6))\n",
    "for i in range(iteracao):\n",
    "    resultados[i, 0] = i\n",
    "    valor_g_x = g_x(xVar)\n",
    "    valor_g_y = g_y(yVar)\n",
    "    diff_g_y = jacobiano_g_y(yVar)\n",
    "    norma_diff_gy = np.linalg.norm(diff_g_y)\n",
    "    yVarNew, alfa, beta = HRLF(diff_g_y, norma_diff_gy, valor_g_y, yVar)\n",
    "    resultados[i, 1] = beta\n",
    "    resultados[i, 2] = yVarNew[0,0]\n",
    "    resultados[i, 3] = yVarNew[0,1]\n",
    "    resultados[i, 4] = yVarNew[0,2]\n",
    "    betaNew = np.linalg.norm(yVarNew)\n",
    "    resultados[i, 5] = betaNew\n",
    "    yVar = yVarNew\n",
    "resultados = pd.DataFrame(data=resultados)\n",
    "resultados.columns=['iter', 'Beta_i', 'Y1', 'Y2','Y3','Beta_i+1']"
   ]
  },
  {
   "cell_type": "code",
   "execution_count": 7,
   "metadata": {},
   "outputs": [
    {
     "data": {
      "text/html": [
       "<div>\n",
       "<style scoped>\n",
       "    .dataframe tbody tr th:only-of-type {\n",
       "        vertical-align: middle;\n",
       "    }\n",
       "\n",
       "    .dataframe tbody tr th {\n",
       "        vertical-align: top;\n",
       "    }\n",
       "\n",
       "    .dataframe thead th {\n",
       "        text-align: right;\n",
       "    }\n",
       "</style>\n",
       "<table border=\"1\" class=\"dataframe\">\n",
       "  <thead>\n",
       "    <tr style=\"text-align: right;\">\n",
       "      <th></th>\n",
       "      <th>iter</th>\n",
       "      <th>Beta_i</th>\n",
       "      <th>Y1</th>\n",
       "      <th>Y2</th>\n",
       "      <th>Y3</th>\n",
       "      <th>Beta_i+1</th>\n",
       "    </tr>\n",
       "  </thead>\n",
       "  <tbody>\n",
       "    <tr>\n",
       "      <th>0</th>\n",
       "      <td>0.0</td>\n",
       "      <td>0.000000</td>\n",
       "      <td>-2.222222</td>\n",
       "      <td>-0.888889</td>\n",
       "      <td>1.777778</td>\n",
       "      <td>2.981424</td>\n",
       "    </tr>\n",
       "    <tr>\n",
       "      <th>1</th>\n",
       "      <td>1.0</td>\n",
       "      <td>2.981424</td>\n",
       "      <td>-3.063161</td>\n",
       "      <td>-0.926072</td>\n",
       "      <td>2.564507</td>\n",
       "      <td>4.100886</td>\n",
       "    </tr>\n",
       "    <tr>\n",
       "      <th>2</th>\n",
       "      <td>2.0</td>\n",
       "      <td>4.100886</td>\n",
       "      <td>-3.551887</td>\n",
       "      <td>-0.919323</td>\n",
       "      <td>2.979470</td>\n",
       "      <td>4.726341</td>\n",
       "    </tr>\n",
       "    <tr>\n",
       "      <th>3</th>\n",
       "      <td>3.0</td>\n",
       "      <td>4.726341</td>\n",
       "      <td>-3.858955</td>\n",
       "      <td>-0.899605</td>\n",
       "      <td>3.235906</td>\n",
       "      <td>5.115849</td>\n",
       "    </tr>\n",
       "    <tr>\n",
       "      <th>4</th>\n",
       "      <td>4.0</td>\n",
       "      <td>5.115849</td>\n",
       "      <td>-4.063492</td>\n",
       "      <td>-0.880982</td>\n",
       "      <td>3.403902</td>\n",
       "      <td>5.373513</td>\n",
       "    </tr>\n",
       "  </tbody>\n",
       "</table>\n",
       "</div>"
      ],
      "text/plain": [
       "   iter    Beta_i        Y1        Y2        Y3  Beta_i+1\n",
       "0   0.0  0.000000 -2.222222 -0.888889  1.777778  2.981424\n",
       "1   1.0  2.981424 -3.063161 -0.926072  2.564507  4.100886\n",
       "2   2.0  4.100886 -3.551887 -0.919323  2.979470  4.726341\n",
       "3   3.0  4.726341 -3.858955 -0.899605  3.235906  5.115849\n",
       "4   4.0  5.115849 -4.063492 -0.880982  3.403902  5.373513"
      ]
     },
     "execution_count": 7,
     "metadata": {},
     "output_type": "execute_result"
    }
   ],
   "source": [
    "resultados"
   ]
  },
  {
   "cell_type": "code",
   "execution_count": null,
   "metadata": {},
   "outputs": [],
   "source": []
  }
 ],
 "metadata": {
  "kernelspec": {
   "display_name": "Python 3",
   "language": "python",
   "name": "python3"
  },
  "language_info": {
   "codemirror_mode": {
    "name": "ipython",
    "version": 3
   },
   "file_extension": ".py",
   "mimetype": "text/x-python",
   "name": "python",
   "nbconvert_exporter": "python",
   "pygments_lexer": "ipython3",
   "version": "3.8.3"
  }
 },
 "nbformat": 4,
 "nbformat_minor": 4
}
